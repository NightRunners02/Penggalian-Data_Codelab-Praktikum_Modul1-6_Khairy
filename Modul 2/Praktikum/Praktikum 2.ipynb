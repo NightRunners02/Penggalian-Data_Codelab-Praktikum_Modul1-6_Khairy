{
 "cells": [
  {
   "cell_type": "markdown",
   "id": "f2ed0153",
   "metadata": {},
   "source": [
    "### **Praktikum 2**\n",
    "\n",
    "Buatlah visualisasi data sesuai kategori, bisa comparison/ relationship/ distribution sebanyak 3 grafik. Jelaskan dari hasil visualisasi tersebut kepada asisten."
   ]
  },
  {
   "cell_type": "markdown",
   "id": "69073c58",
   "metadata": {},
   "source": [
    "1. Visualisasi Data\n"
   ]
  },
  {
   "cell_type": "markdown",
   "id": "33b3ef1c",
   "metadata": {},
   "source": [
    "(a) Grafik Perbandingan Penjualan Produk\n"
   ]
  },
  {
   "cell_type": "code",
   "execution_count": null,
   "id": "b085ab90",
   "metadata": {},
   "outputs": [],
   "source": [
    "plt.figure(figsize=(10, 5))\n",
    "top_items = df['Item'].value_counts().head(5)\n",
    "sns.barplot(x=top_items.index, y=top_items.values, hue=top_items.index, palette='viridis',)\n",
    "plt.title('Top 5 Produk yang Paling Sering Terjual')\n",
    "plt.xlabel('Produk')\n",
    "plt.ylabel('Jumlah Terjual')\n",
    "plt.show()\n"
   ]
  },
  {
   "cell_type": "markdown",
   "id": "8c6321bf",
   "metadata": {},
   "source": [
    "(b) Grafik Distribusi Total Spent\n",
    "\n"
   ]
  },
  {
   "cell_type": "code",
   "execution_count": null,
   "id": "489b4044",
   "metadata": {},
   "outputs": [],
   "source": [
    "plt.figure(figsize=(10, 5))\n",
    "sns.histplot(df['Total Spent'], bins=30, kde=True, color='purple')\n",
    "plt.title(\"Distribusi Total Spent\")\n",
    "plt.xlabel(\"Total Spent ($)\")\n",
    "plt.ylabel(\"Frekuensi\")\n",
    "plt.show()\n"
   ]
  },
  {
   "cell_type": "markdown",
   "id": "3ad45a09",
   "metadata": {},
   "source": [
    "(c) Grafik Penjualan per Bulan\n"
   ]
  },
  {
   "cell_type": "code",
   "execution_count": null,
   "id": "448906a5",
   "metadata": {},
   "outputs": [],
   "source": [
    "plt.figure(figsize=(10, 5))\n",
    "monthly_sales.plot(kind='line', marker='o', color='red')\n",
    "plt.title(\"Total Penjualan Per Bulan\")\n",
    "plt.xlabel(\"Bulan\")\n",
    "plt.ylabel(\"Total Pendapatan ($)\")\n",
    "plt.xticks(range(1, 13))\n",
    "plt.grid()\n",
    "plt.show()\n"
   ]
  },
  {
   "cell_type": "code",
   "execution_count": null,
   "id": "24bbbdcc",
   "metadata": {},
   "outputs": [],
   "source": [
    "plt.figure(figsize=(8, 8))\n",
    "\n",
    "payment_counts = df['Payment Method'].value_counts()\n",
    "\n",
    "explode = [0.1 if i == 0 else 0 for i in range(len(payment_counts))]\n",
    "\n",
    "payment_counts.plot.pie(autopct='%1.1f%%', startangle=90, cmap='coolwarm', explode=explode, shadow=True)\n",
    "\n",
    "plt.title('Distribusi Metode Pembayaran')\n",
    "plt.ylabel('')\n",
    "plt.show()\n"
   ]
  }
 ],
 "metadata": {
  "language_info": {
   "name": "python"
  }
 },
 "nbformat": 4,
 "nbformat_minor": 5
}
