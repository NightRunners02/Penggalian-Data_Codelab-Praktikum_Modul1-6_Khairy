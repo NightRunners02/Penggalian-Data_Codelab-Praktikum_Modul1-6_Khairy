{
 "cells": [
  {
   "cell_type": "markdown",
   "id": "6f000580",
   "metadata": {},
   "source": [
    "### **Praktikum 1**\n",
    "\n",
    "1. Menampilkan metadata dataset secara lengkap disertai penjelasan ringkas\n",
    "2. Mengolah data (data cleaning dan data manipulation)\n",
    "3. Menganalisis business problem/question (minimal 5)\n",
    "4. Menampilkan analisis deskriptif statistik / data outlier"
   ]
  },
  {
   "cell_type": "code",
   "execution_count": null,
   "id": "dbbcdcfb",
   "metadata": {},
   "outputs": [],
   "source": [
    "from google.colab import drive\n",
    "\n",
    "drive.mount('/content/drive')\n"
   ]
  },
  {
   "cell_type": "code",
   "execution_count": null,
   "id": "086cdca4",
   "metadata": {},
   "outputs": [],
   "source": [
    "import pandas as pd\n",
    "\n",
    "file_path = '/content/drive/MyDrive/Salinan cafe_sales.csv'\n",
    "\n",
    "df = pd.read_csv(file_path)\n",
    "\n",
    "print(\"5 Data Pertama:\")\n",
    "print(df.head())\n",
    "\n",
    "print(\"\\n5 Data Terakhir:\")\n",
    "print(df.tail())\n"
   ]
  },
  {
   "cell_type": "markdown",
   "id": "f2161eb1",
   "metadata": {},
   "source": [
    "1. Menampilkan metadata dataset secara lengkap disertai penjelasan ringkas\n"
   ]
  },
  {
   "cell_type": "code",
   "execution_count": null,
   "id": "a1e3c336",
   "metadata": {},
   "outputs": [],
   "source": [
    "print(\"Informasi Dataset:\")\n",
    "print(df.info())\n",
    "\n",
    "print(\"\\nStatistik Deskriptif:\")\n",
    "print(df.describe())\n",
    "\n",
    "print(\"\\nJumlah Nilai Unik di Setiap Kolom:\")\n",
    "print(df.nunique())\n",
    "\n",
    "print(\"\\nJumlah Missing Values:\")\n",
    "print(df.isnull().sum())\n"
   ]
  },
  {
   "cell_type": "code",
   "execution_count": null,
   "id": "81134f4b",
   "metadata": {},
   "outputs": [],
   "source": [
    "print(\"Informasi Dataset:\")\n",
    "print(df.info())\n"
   ]
  },
  {
   "cell_type": "code",
   "execution_count": null,
   "id": "d42a7dc4",
   "metadata": {},
   "outputs": [],
   "source": [
    "print(\"\\nStatistik Deskriptif:\")\n",
    "print(df.describe())\n"
   ]
  },
  {
   "cell_type": "code",
   "execution_count": null,
   "id": "57a37b35",
   "metadata": {},
   "outputs": [],
   "source": [
    "print(\"\\nJumlah Nilai Unik di Setiap Kolom:\")\n",
    "print(df.nunique())\n"
   ]
  },
  {
   "cell_type": "markdown",
   "id": "e170db69",
   "metadata": {},
   "source": [
    "2. Mengolah data (data cleaning dan data manipulation)\n"
   ]
  },
  {
   "cell_type": "code",
   "execution_count": null,
   "id": "19a36297",
   "metadata": {},
   "outputs": [],
   "source": [
    "import pandas as pd\n",
    "\n",
    "file_path = '/content/drive/MyDrive/Salinan cafe_sales.csv'\n",
    "df = pd.read_csv(file_path)\n",
    "\n",
    "df = df[df['Total Spent'] != 'ERROR'].copy()\n",
    "\n",
    "df['Price Per Unit'] = pd.to_numeric(df['Price Per Unit'], errors='coerce')\n",
    "df['Total Spent'] = pd.to_numeric(df['Total Spent'], errors='coerce')\n",
    "df['Quantity'] = pd.to_numeric(df['Quantity'], errors='coerce')\n",
    "\n",
    "df['Payment Method'] = df['Payment Method'].fillna('Unknown')\n",
    "df['Location'] = df['Location'].fillna('Unknown')\n",
    "df['Price Per Unit'] = df['Price Per Unit'].fillna(df['Price Per Unit'].median())\n",
    "\n",
    "print(\"\\nDataset setelah Data Cleaning:\")\n",
    "print(df.head())\n"
   ]
  },
  {
   "cell_type": "code",
   "execution_count": null,
   "id": "15453838",
   "metadata": {},
   "outputs": [],
   "source": [
    "import pandas as pd\n",
    "\n",
    "file_path = '/content/drive/MyDrive/Salinan cafe_sales.csv'\n",
    "df = pd.read_csv(file_path)\n",
    "\n",
    "df = df[df['Total Spent'] != 'ERROR'].copy()\n",
    "\n",
    "df['Item'] = df['Item'].fillna('Unknown')\n",
    "df['Payment Method'] = df['Payment Method'].fillna('Unknown')\n",
    "df['Location'] = df['Location'].fillna('Unknown')\n",
    "\n",
    "df['Quantity'] = pd.to_numeric(df['Quantity'], errors='coerce')\n",
    "df['Price Per Unit'] = pd.to_numeric(df['Price Per Unit'], errors='coerce')\n",
    "df['Total Spent'] = pd.to_numeric(df['Total Spent'], errors='coerce')\n",
    "\n",
    "df['Quantity'] = df['Quantity'].fillna(df['Quantity'].mode().iloc[0])\n",
    "df['Price Per Unit'] = df['Price Per Unit'].fillna(df['Price Per Unit'].median())\n",
    "df['Total Spent'] = df['Total Spent'].fillna(df['Total Spent'].median())\n",
    "df['Transaction Date'] = pd.to_datetime(df['Transaction Date'], errors='coerce')\n",
    "\n",
    "df.drop_duplicates(inplace=True)\n",
    "\n",
    "df = df.infer_objects(copy=False)\n",
    "\n",
    "print(\"\\nInformasi Dataset Setelah Data Cleaning:\")\n",
    "print(df.info())\n",
    "\n",
    "print(\"\\nJumlah Missing Values Setelah Perbaikan:\")\n",
    "print(df.isnull().sum())\n"
   ]
  },
  {
   "cell_type": "markdown",
   "id": "ae499f3f",
   "metadata": {},
   "source": [
    "3. Menganalisis Business Problem / Questions (Minimal 5)\n",
    "\n"
   ]
  },
  {
   "cell_type": "code",
   "execution_count": null,
   "id": "7f00e388",
   "metadata": {},
   "outputs": [],
   "source": [
    "import pandas as pd\n",
    "\n",
    "file_path = '/content/drive/MyDrive/Salinan cafe_sales.csv'\n",
    "df = pd.read_csv(file_path)\n",
    "\n",
    "df = df[df['Total Spent'] != 'ERROR'].copy()\n",
    "df['Total Spent'] = pd.to_numeric(df['Total Spent'], errors='coerce')\n",
    "df['Price Per Unit'] = pd.to_numeric(df['Price Per Unit'], errors='coerce')\n",
    "df['Quantity'] = pd.to_numeric(df['Quantity'], errors='coerce')\n",
    "df['Transaction Date'] = pd.to_datetime(df['Transaction Date'], errors='coerce')\n",
    "\n",
    "top_items = df['Item'].value_counts().head(5)\n",
    "print(\"\\nTop 5 Produk yang Paling Sering Terjual:\")\n",
    "print(top_items)\n",
    "\n",
    "payment_methods = df['Payment Method'].value_counts()\n",
    "print(\"\\nMetode Pembayaran Terbanyak:\")\n",
    "print(payment_methods)\n",
    "\n",
    "total_revenue = df['Total Spent'].sum()\n",
    "print(\"\\nTotal Pendapatan Keseluruhan: $\", total_revenue)\n",
    "\n",
    "top_locations = df['Location'].value_counts()\n",
    "print(\"\\nLokasi dengan Transaksi Terbanyak:\")\n",
    "print(top_locations)\n",
    "\n",
    "df['Month'] = df['Transaction Date'].dt.month\n",
    "monthly_sales = df.groupby('Month')['Total Spent'].sum()\n",
    "print(\"\\nPenjualan Per Bulan:\")\n",
    "print(monthly_sales)\n"
   ]
  },
  {
   "cell_type": "markdown",
   "id": "ffe21462",
   "metadata": {},
   "source": [
    "4. Analisis Deskriptif Statistik & Data Outlier\n",
    "\n"
   ]
  },
  {
   "cell_type": "code",
   "execution_count": null,
   "id": "584040b2",
   "metadata": {},
   "outputs": [],
   "source": [
    "print(\"\\nStatistik Deskriptif:\")\n",
    "print(df.info())\n"
   ]
  },
  {
   "cell_type": "code",
   "execution_count": null,
   "id": "05a742f7",
   "metadata": {},
   "outputs": [],
   "source": [
    "print(\"\\nStatistik Deskriptif:\")\n",
    "print(df.describe())\n"
   ]
  },
  {
   "cell_type": "code",
   "execution_count": null,
   "id": "d1560db8",
   "metadata": {},
   "outputs": [],
   "source": [
    "import seaborn as sns\n",
    "import matplotlib.pyplot as plt\n",
    "\n",
    "plt.figure(figsize=(8, 5))\n",
    "sns.boxplot(x=df['Total Spent'])\n",
    "plt.title(\"Boxplot Total Spent (Mendeteksi Outlier)\")\n",
    "plt.show()\n"
   ]
  },
  {
   "cell_type": "code",
   "execution_count": null,
   "id": "64d91d25",
   "metadata": {},
   "outputs": [],
   "source": [
    "import seaborn as sns\n",
    "import matplotlib.pyplot as plt\n",
    "\n",
    "plt.figure(figsize=(12, 5))\n",
    "sns.boxplot(data=df[['Total Spent', 'Price Per Unit']])\n",
    "plt.title('Boxplot Total Spent & Price Per Unit')\n",
    "plt.show()\n"
   ]
  }
 ],
 "metadata": {
  "language_info": {
   "name": "python"
  }
 },
 "nbformat": 4,
 "nbformat_minor": 5
}
