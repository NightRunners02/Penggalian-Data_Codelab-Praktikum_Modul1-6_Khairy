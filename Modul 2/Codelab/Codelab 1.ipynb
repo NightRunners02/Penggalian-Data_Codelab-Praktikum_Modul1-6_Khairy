{
 "cells": [
  {
   "cell_type": "markdown",
   "metadata": {},
   "source": [
    "### **Codelab 1**"
   ]
  },
  {
   "cell_type": "code",
   "execution_count": null,
   "metadata": {},
   "outputs": [],
   "source": [
    "from google.colab import drive\n",
    "\n",
    "drive.mount('/content/drive')\n"
   ]
  },
  {
   "cell_type": "markdown",
   "metadata": {},
   "source": [
    "\n",
    "Akses dataset [disini](https://docs.google.com/spreadsheets/d/1AzOZWnF42mpjRW6hnP34UxcqS4ECEtFj/edit?usp=drive_link&ouid=104739968569043911960&rtpof=true&sd=true).\n",
    "\n",
    "Kemudian lakukan insight dasar dari dataset tersebut.\n",
    "1. Memuat dataset dengan menggunakan library pandas menjadi dataframe.\n",
    "2. Tampilkan 7 baris data awal dan tampilkan informasi dasar dataset.\n",
    "3. Hitung jumlah iuran dan tentukan rata-rata iuran dari semua anggota.\n"
   ]
  },
  {
   "cell_type": "code",
   "execution_count": null,
   "metadata": {},
   "outputs": [],
   "source": [
    "import pandas as pd\n",
    "\n",
    "file_path = '/content/drive/MyDrive/Modul 2/International Logistic Association Memberships.xlsx'\n",
    "df = pd.read_excel(file_path)\n",
    "\n",
    "print(df.head())\n"
   ]
  },
  {
   "cell_type": "markdown",
   "metadata": {},
   "source": [
    "2. Tampilkan 7 baris data awal dan tampilkan informasi dasar dataset.\n"
   ]
  },
  {
   "cell_type": "code",
   "execution_count": null,
   "metadata": {},
   "outputs": [],
   "source": [
    "import pandas as pd\n",
    "\n",
    "file_path = \"/content/drive/MyDrive/Modul 2/International Logistic Association Memberships.xlsx\"\n",
    "df = pd.read_excel(file_path)\n",
    "\n",
    "print(\"7 Baris Data Awal:\")\n",
    "print(df.head(7))\n",
    "\n"
   ]
  },
  {
   "cell_type": "code",
   "execution_count": null,
   "metadata": {},
   "outputs": [],
   "source": [
    "print(\"\\nInformasi Dasar Dataset:\")\n",
    "df.info()\n"
   ]
  },
  {
   "cell_type": "markdown",
   "metadata": {},
   "source": [
    "3. Hitung jumlah iuran dan tentukan rata-rata iuran dari semua anggota.\n"
   ]
  },
  {
   "cell_type": "code",
   "execution_count": null,
   "metadata": {},
   "outputs": [],
   "source": [
    "if \"Dues amount\" in df.columns:\n",
    "    total_iuran = df[\"Dues amount\"].sum()\n",
    "    rata_iuran = df[\"Dues amount\"].mean()\n",
    "\n",
    "    print(f\"\\nJumlah Iuran (Dues amount): {total_iuran}\")\n",
    "    print(f\"Rata-rata Iuran (Dues amount): {rata_iuran}\")\n",
    "else:\n",
    "    print(\"\\nKolom 'Dues amount' tidak ditemukan. Pastikan nama kolom sesuai dengan file Excel Anda.\")\n",
    "    print(\"Kolom yang tersedia:\", df.columns.tolist())\n"
   ]
  }
 ],
 "metadata": {
  "kernelspec": {
   "display_name": "Python 3",
   "language": "python",
   "name": "python3"
  },
  "language_info": {
   "codemirror_mode": {
    "name": "ipython",
    "version": 3
   },
   "file_extension": ".py",
   "mimetype": "text/x-python",
   "name": "python",
   "nbconvert_exporter": "python",
   "pygments_lexer": "ipython3",
   "version": "3.12.0"
  }
 },
 "nbformat": 4,
 "nbformat_minor": 2
}
