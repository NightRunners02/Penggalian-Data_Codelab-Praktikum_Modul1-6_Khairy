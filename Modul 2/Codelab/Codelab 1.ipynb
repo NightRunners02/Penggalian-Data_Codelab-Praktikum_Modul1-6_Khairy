{
 "cells": [
  {
   "cell_type": "markdown",
   "metadata": {},
   "source": [
    "### Codelab 1"
   ]
  },
  {
   "cell_type": "code",
   "execution_count": null,
   "metadata": {},
   "outputs": [],
   "source": [
    "from google.colab import drive\n",
    "\n",
    "drive.mount('/content/drive')\n"
   ]
  },
  {
   "cell_type": "markdown",
   "metadata": {},
   "source": [
    "\n",
    "Akses dataset [disini](https://docs.google.com/spreadsheets/d/1AzOZWnF42mpjRW6hnP34UxcqS4ECEtFj/edit?usp=drive_link&ouid=104739968569043911960&rtpof=true&sd=true).\n",
    "\n",
    "Kemudian lakukan insight dasar dari dataset tersebut.\n",
    "1. Memuat dataset dengan menggunakan library pandas menjadi dataframe.\n",
    "2. Tampilkan 7 baris data awal dan tampilkan informasi dasar dataset.\n",
    "3. Hitung jumlah iuran dan tentukan rata-rata iuran dari semua anggota.\n"
   ]
  },
  {
   "cell_type": "code",
   "execution_count": null,
   "metadata": {},
   "outputs": [],
   "source": [
    "import pandas as pd\n",
    "\n",
    "file_path = '/content/drive/MyDrive/Modul 2/International Logistic Association Memberships.xlsx'\n",
    "df = pd.read_excel(file_path)\n",
    "\n",
    "print(df.head())\n"
   ]
  },
  {
   "cell_type": "markdown",
   "metadata": {},
   "source": [
    "2. Tampilkan 7 baris data awal dan tampilkan informasi dasar dataset.\n"
   ]
  },
  {
   "cell_type": "code",
   "execution_count": null,
   "metadata": {},
   "outputs": [],
   "source": [
    "import pandas as pd\n",
    "\n",
    "file_path = \"/content/drive/MyDrive/Modul 2/International Logistic Association Memberships.xlsx\"\n",
    "df = pd.read_excel(file_path)\n",
    "\n",
    "print(\"7 Baris Data Awal:\")\n",
    "print(df.head(7))\n",
    "\n"
   ]
  },
  {
   "cell_type": "code",
   "execution_count": null,
   "metadata": {},
   "outputs": [],
   "source": [
    "print(\"\\nInformasi Dasar Dataset:\")\n",
    "df.info()\n"
   ]
  },
  {
   "cell_type": "markdown",
   "metadata": {},
   "source": [
    "3. Hitung jumlah iuran dan tentukan rata-rata iuran dari semua anggota.\n"
   ]
  },
  {
   "cell_type": "code",
   "execution_count": null,
   "metadata": {},
   "outputs": [],
   "source": [
    "if \"Dues amount\" in df.columns:\n",
    "    total_iuran = df[\"Dues amount\"].sum()\n",
    "    rata_iuran = df[\"Dues amount\"].mean()\n",
    "\n",
    "    print(f\"\\nJumlah Iuran (Dues amount): {total_iuran}\")\n",
    "    print(f\"Rata-rata Iuran (Dues amount): {rata_iuran}\")\n",
    "else:\n",
    "    print(\"\\nKolom 'Dues amount' tidak ditemukan. Pastikan nama kolom sesuai dengan file Excel Anda.\")\n",
    "    print(\"Kolom yang tersedia:\", df.columns.tolist())\n"
   ]
  },
  {
   "cell_type": "markdown",
   "metadata": {},
   "source": [
    "### **Praktikum 1**\n",
    "\n",
    "1. Menampilkan metadata dataset secara lengkap disertai penjelasan ringkas\n",
    "2. Mengolah data (data cleaning dan data manipulation)\n",
    "3. Menganalisis business problem/question (minimal 5)\n",
    "4. Menampilkan analisis deskriptif statistik / data outlier"
   ]
  },
  {
   "cell_type": "code",
   "execution_count": null,
   "metadata": {},
   "outputs": [],
   "source": [
    "from google.colab import drive\n",
    "\n",
    "drive.mount('/content/drive')\n"
   ]
  },
  {
   "cell_type": "code",
   "execution_count": null,
   "metadata": {},
   "outputs": [],
   "source": [
    "import pandas as pd\n",
    "\n",
    "file_path = '/content/drive/MyDrive/Salinan cafe_sales.csv'\n",
    "\n",
    "df = pd.read_csv(file_path)\n",
    "\n",
    "print(\"5 Data Pertama:\")\n",
    "print(df.head())\n",
    "\n",
    "print(\"\\n5 Data Terakhir:\")\n",
    "print(df.tail())\n"
   ]
  },
  {
   "cell_type": "markdown",
   "metadata": {},
   "source": [
    "1. Menampilkan metadata dataset secara lengkap disertai penjelasan ringkas\n"
   ]
  },
  {
   "cell_type": "code",
   "execution_count": null,
   "metadata": {},
   "outputs": [],
   "source": [
    "print(\"Informasi Dataset:\")\n",
    "print(df.info())\n",
    "\n",
    "print(\"\\nStatistik Deskriptif:\")\n",
    "print(df.describe())\n",
    "\n",
    "print(\"\\nJumlah Nilai Unik di Setiap Kolom:\")\n",
    "print(df.nunique())\n",
    "\n",
    "print(\"\\nJumlah Missing Values:\")\n",
    "print(df.isnull().sum())\n"
   ]
  },
  {
   "cell_type": "code",
   "execution_count": null,
   "metadata": {},
   "outputs": [],
   "source": [
    "print(\"Informasi Dataset:\")\n",
    "print(df.info())\n"
   ]
  },
  {
   "cell_type": "code",
   "execution_count": null,
   "metadata": {},
   "outputs": [],
   "source": [
    "print(\"\\nStatistik Deskriptif:\")\n",
    "print(df.describe())\n"
   ]
  },
  {
   "cell_type": "code",
   "execution_count": null,
   "metadata": {},
   "outputs": [],
   "source": [
    "print(\"\\nJumlah Nilai Unik di Setiap Kolom:\")\n",
    "print(df.nunique())\n"
   ]
  },
  {
   "cell_type": "markdown",
   "metadata": {},
   "source": [
    "2. Mengolah data (data cleaning dan data manipulation)\n"
   ]
  },
  {
   "cell_type": "code",
   "execution_count": null,
   "metadata": {},
   "outputs": [],
   "source": [
    "import pandas as pd\n",
    "\n",
    "file_path = '/content/drive/MyDrive/Salinan cafe_sales.csv'\n",
    "df = pd.read_csv(file_path)\n",
    "\n",
    "df = df[df['Total Spent'] != 'ERROR'].copy()\n",
    "\n",
    "df['Price Per Unit'] = pd.to_numeric(df['Price Per Unit'], errors='coerce')\n",
    "df['Total Spent'] = pd.to_numeric(df['Total Spent'], errors='coerce')\n",
    "df['Quantity'] = pd.to_numeric(df['Quantity'], errors='coerce')\n",
    "\n",
    "df['Payment Method'] = df['Payment Method'].fillna('Unknown')\n",
    "df['Location'] = df['Location'].fillna('Unknown')\n",
    "df['Price Per Unit'] = df['Price Per Unit'].fillna(df['Price Per Unit'].median())\n",
    "\n",
    "print(\"\\nDataset setelah Data Cleaning:\")\n",
    "print(df.head())\n"
   ]
  },
  {
   "cell_type": "code",
   "execution_count": null,
   "metadata": {},
   "outputs": [],
   "source": [
    "import pandas as pd\n",
    "\n",
    "file_path = '/content/drive/MyDrive/Salinan cafe_sales.csv'\n",
    "df = pd.read_csv(file_path)\n",
    "\n",
    "df = df[df['Total Spent'] != 'ERROR'].copy()\n",
    "\n",
    "df['Item'] = df['Item'].fillna('Unknown')\n",
    "df['Payment Method'] = df['Payment Method'].fillna('Unknown')\n",
    "df['Location'] = df['Location'].fillna('Unknown')\n",
    "\n",
    "df['Quantity'] = pd.to_numeric(df['Quantity'], errors='coerce')\n",
    "df['Price Per Unit'] = pd.to_numeric(df['Price Per Unit'], errors='coerce')\n",
    "df['Total Spent'] = pd.to_numeric(df['Total Spent'], errors='coerce')\n",
    "\n",
    "df['Quantity'] = df['Quantity'].fillna(df['Quantity'].mode().iloc[0])\n",
    "df['Price Per Unit'] = df['Price Per Unit'].fillna(df['Price Per Unit'].median())\n",
    "df['Total Spent'] = df['Total Spent'].fillna(df['Total Spent'].median())\n",
    "df['Transaction Date'] = pd.to_datetime(df['Transaction Date'], errors='coerce')\n",
    "\n",
    "df.drop_duplicates(inplace=True)\n",
    "\n",
    "df = df.infer_objects(copy=False)\n",
    "\n",
    "print(\"\\nInformasi Dataset Setelah Data Cleaning:\")\n",
    "print(df.info())\n",
    "\n",
    "print(\"\\nJumlah Missing Values Setelah Perbaikan:\")\n",
    "print(df.isnull().sum())\n"
   ]
  },
  {
   "cell_type": "markdown",
   "metadata": {},
   "source": [
    "3. Menganalisis Business Problem / Questions (Minimal 5)\n",
    "\n"
   ]
  },
  {
   "cell_type": "code",
   "execution_count": null,
   "metadata": {},
   "outputs": [],
   "source": [
    "import pandas as pd\n",
    "\n",
    "file_path = '/content/drive/MyDrive/Salinan cafe_sales.csv'\n",
    "df = pd.read_csv(file_path)\n",
    "\n",
    "df = df[df['Total Spent'] != 'ERROR'].copy()\n",
    "df['Total Spent'] = pd.to_numeric(df['Total Spent'], errors='coerce')\n",
    "df['Price Per Unit'] = pd.to_numeric(df['Price Per Unit'], errors='coerce')\n",
    "df['Quantity'] = pd.to_numeric(df['Quantity'], errors='coerce')\n",
    "df['Transaction Date'] = pd.to_datetime(df['Transaction Date'], errors='coerce')\n",
    "\n",
    "top_items = df['Item'].value_counts().head(5)\n",
    "print(\"\\nTop 5 Produk yang Paling Sering Terjual:\")\n",
    "print(top_items)\n",
    "\n",
    "payment_methods = df['Payment Method'].value_counts()\n",
    "print(\"\\nMetode Pembayaran Terbanyak:\")\n",
    "print(payment_methods)\n",
    "\n",
    "total_revenue = df['Total Spent'].sum()\n",
    "print(\"\\nTotal Pendapatan Keseluruhan: $\", total_revenue)\n",
    "\n",
    "top_locations = df['Location'].value_counts()\n",
    "print(\"\\nLokasi dengan Transaksi Terbanyak:\")\n",
    "print(top_locations)\n",
    "\n",
    "df['Month'] = df['Transaction Date'].dt.month\n",
    "monthly_sales = df.groupby('Month')['Total Spent'].sum()\n",
    "print(\"\\nPenjualan Per Bulan:\")\n",
    "print(monthly_sales)\n"
   ]
  },
  {
   "cell_type": "markdown",
   "metadata": {},
   "source": [
    "4. Analisis Deskriptif Statistik & Data Outlier\n",
    "\n"
   ]
  },
  {
   "cell_type": "code",
   "execution_count": null,
   "metadata": {},
   "outputs": [],
   "source": [
    "print(\"\\nStatistik Deskriptif:\")\n",
    "print(df.info())\n"
   ]
  },
  {
   "cell_type": "code",
   "execution_count": null,
   "metadata": {},
   "outputs": [],
   "source": [
    "print(\"\\nStatistik Deskriptif:\")\n",
    "print(df.describe())\n"
   ]
  },
  {
   "cell_type": "code",
   "execution_count": null,
   "metadata": {},
   "outputs": [],
   "source": [
    "import seaborn as sns\n",
    "import matplotlib.pyplot as plt\n",
    "\n",
    "plt.figure(figsize=(8, 5))\n",
    "sns.boxplot(x=df['Total Spent'])\n",
    "plt.title(\"Boxplot Total Spent (Mendeteksi Outlier)\")\n",
    "plt.show()\n"
   ]
  },
  {
   "cell_type": "code",
   "execution_count": null,
   "metadata": {},
   "outputs": [],
   "source": [
    "import seaborn as sns\n",
    "import matplotlib.pyplot as plt\n",
    "\n",
    "plt.figure(figsize=(12, 5))\n",
    "sns.boxplot(data=df[['Total Spent', 'Price Per Unit']])\n",
    "plt.title('Boxplot Total Spent & Price Per Unit')\n",
    "plt.show()\n"
   ]
  },
  {
   "cell_type": "markdown",
   "metadata": {},
   "source": [
    "### **Praktikum 2**\n",
    "\n",
    "Buatlah visualisasi data sesuai kategori, bisa comparison/ relationship/ distribution sebanyak 3 grafik. Jelaskan dari hasil visualisasi tersebut kepada asisten."
   ]
  },
  {
   "cell_type": "markdown",
   "metadata": {},
   "source": [
    "1. Visualisasi Data\n"
   ]
  },
  {
   "cell_type": "markdown",
   "metadata": {},
   "source": [
    "(a) Grafik Perbandingan Penjualan Produk\n"
   ]
  },
  {
   "cell_type": "code",
   "execution_count": null,
   "metadata": {},
   "outputs": [],
   "source": [
    "plt.figure(figsize=(10, 5))\n",
    "top_items = df['Item'].value_counts().head(5)\n",
    "sns.barplot(x=top_items.index, y=top_items.values, hue=top_items.index, palette='viridis',)\n",
    "plt.title('Top 5 Produk yang Paling Sering Terjual')\n",
    "plt.xlabel('Produk')\n",
    "plt.ylabel('Jumlah Terjual')\n",
    "plt.show()\n"
   ]
  },
  {
   "cell_type": "markdown",
   "metadata": {},
   "source": [
    "(b) Grafik Distribusi Total Spent\n",
    "\n"
   ]
  },
  {
   "cell_type": "code",
   "execution_count": null,
   "metadata": {},
   "outputs": [],
   "source": [
    "plt.figure(figsize=(10, 5))\n",
    "sns.histplot(df['Total Spent'], bins=30, kde=True, color='purple')\n",
    "plt.title(\"Distribusi Total Spent\")\n",
    "plt.xlabel(\"Total Spent ($)\")\n",
    "plt.ylabel(\"Frekuensi\")\n",
    "plt.show()\n"
   ]
  },
  {
   "cell_type": "markdown",
   "metadata": {},
   "source": [
    "(c) Grafik Penjualan per Bulan\n"
   ]
  },
  {
   "cell_type": "code",
   "execution_count": null,
   "metadata": {},
   "outputs": [],
   "source": [
    "plt.figure(figsize=(10, 5))\n",
    "monthly_sales.plot(kind='line', marker='o', color='red')\n",
    "plt.title(\"Total Penjualan Per Bulan\")\n",
    "plt.xlabel(\"Bulan\")\n",
    "plt.ylabel(\"Total Pendapatan ($)\")\n",
    "plt.xticks(range(1, 13))\n",
    "plt.grid()\n",
    "plt.show()\n"
   ]
  },
  {
   "cell_type": "code",
   "execution_count": null,
   "metadata": {},
   "outputs": [],
   "source": [
    "plt.figure(figsize=(8, 8))\n",
    "\n",
    "payment_counts = df['Payment Method'].value_counts()\n",
    "\n",
    "explode = [0.1 if i == 0 else 0 for i in range(len(payment_counts))]\n",
    "\n",
    "payment_counts.plot.pie(autopct='%1.1f%%', startangle=90, cmap='coolwarm', explode=explode, shadow=True)\n",
    "\n",
    "plt.title('Distribusi Metode Pembayaran')\n",
    "plt.ylabel('')\n",
    "plt.show()\n"
   ]
  }
 ],
 "metadata": {
  "kernelspec": {
   "display_name": "Python 3",
   "language": "python",
   "name": "python3"
  },
  "language_info": {
   "codemirror_mode": {
    "name": "ipython",
    "version": 3
   },
   "file_extension": ".py",
   "mimetype": "text/x-python",
   "name": "python",
   "nbconvert_exporter": "python",
   "pygments_lexer": "ipython3",
   "version": "3.12.0"
  }
 },
 "nbformat": 4,
 "nbformat_minor": 2
}
